{
 "cells": [
  {
   "cell_type": "markdown",
   "metadata": {},
   "source": [
    "# Mega Assingment"
   ]
  },
  {
   "cell_type": "code",
   "execution_count": 2,
   "metadata": {},
   "outputs": [],
   "source": [
    "# Q1. Which of the following terms are related to dictionaries?\n",
    "    #a) value    ✓\n",
    "    #b) item     ✓\n",
    "    #c) index\n",
    "    #d) key      ✓"
   ]
  },
  {
   "cell_type": "code",
   "execution_count": 3,
   "metadata": {},
   "outputs": [],
   "source": [
    "# Q2. Just like lists, + operator is used to extend dictionaries?\n",
    "    #a)  True\n",
    "    #b)  False   ✓"
   ]
  },
  {
   "cell_type": "code",
   "execution_count": 4,
   "metadata": {},
   "outputs": [],
   "source": [
    "# Q3. To access items from a dictionary, we specify the index of that item within [] like myDict[0]?\n",
    "    #a)  True    ✓\n",
    "    #b)  False"
   ]
  },
  {
   "cell_type": "code",
   "execution_count": 5,
   "metadata": {},
   "outputs": [],
   "source": [
    "# Q4. When we use [] to access the value from a dictionary which does not exist in that dictionary?\n",
    "    #a) Value within [] is added to the dictionaryb \n",
    "    #b) Value None is returnedc\n",
    "    #c) New dictionary is createdd\n",
    "    #d) None of above        ✓"
   ]
  },
  {
   "cell_type": "code",
   "execution_count": 1,
   "metadata": {},
   "outputs": [],
   "source": [
    "# Q5. What does return the pop method of a dictionary?\n",
    "    #a) list\n",
    "    #b) tuple containing the pair of last item of the dictionary\n",
    "    #c) dictionary\n",
    "    #d) value of the key, if it exists in the dictionary       ✓"
   ]
  },
  {
   "cell_type": "code",
   "execution_count": 2,
   "metadata": {},
   "outputs": [],
   "source": [
    "# Q6. What does return popitem method return?\n",
    "    #a) dictionary\n",
    "    #b) tupple containing the pair of last item of the dictionary    ✓\n",
    "    #c) list\n",
    "    #d) value of key, if it exists in the dictionary"
   ]
  },
  {
   "cell_type": "code",
   "execution_count": 3,
   "metadata": {},
   "outputs": [],
   "source": [
    "# Q7. Which of the following 2 methods can be used to iterate through the items of a dictionary?\n",
    "    #a) items()     ✓\n",
    "    #b) values()    \n",
    "    #c) indexes()\n",
    "    #d) keys()      ✓"
   ]
  },
  {
   "cell_type": "code",
   "execution_count": 4,
   "metadata": {},
   "outputs": [],
   "source": [
    "# Q8. Which one of the following is used to enclose a dictionary?\n",
    "    #a) () parenthesis\n",
    "    #b) {} curly brackets   ✓\n",
    "    #c) []] square brackets\n",
    "    #d) “” quotation marks"
   ]
  },
  {
   "cell_type": "code",
   "execution_count": 15,
   "metadata": {},
   "outputs": [
    {
     "name": "stdout",
     "output_type": "stream",
     "text": [
      "yes\n"
     ]
    }
   ],
   "source": [
    "# Q9. Write Python Program add key-value pair in dictionary andcheck if a Given Keyor Value or BothExists in a Dictionary or Not.\n",
    "# Solution\n",
    "myDict={\"fruit\":\"apple\",\"vegtab\":\"ladyfinger\"}\n",
    "if myDict.keys():\n",
    "    print(\"yes\")\n",
    "elif myDict.values():\n",
    "    print(\"sure\")\n",
    "else:\n",
    "    print(\"OOps\")"
   ]
  },
  {
   "cell_type": "code",
   "execution_count": 16,
   "metadata": {},
   "outputs": [
    {
     "data": {
      "text/plain": [
       "2"
      ]
     },
     "execution_count": 16,
     "metadata": {},
     "output_type": "execute_result"
    }
   ],
   "source": [
    "# Q10. Write a Python Program to Count the Frequency of Words Appearing in a String Using a Dictionaryand print only the words having Even (divisible by 2) frequency.\n",
    "list=[1,1,1,8,8,7,5,3]\n",
    "list.count(8)"
   ]
  },
  {
   "cell_type": "code",
   "execution_count": 18,
   "metadata": {},
   "outputs": [
    {
     "data": {
      "text/plain": [
       "8.0"
      ]
     },
     "execution_count": 18,
     "metadata": {},
     "output_type": "execute_result"
    }
   ],
   "source": [
    "16/2"
   ]
  },
  {
   "cell_type": "code",
   "execution_count": 19,
   "metadata": {},
   "outputs": [
    {
     "data": {
      "text/plain": [
       "9"
      ]
     },
     "execution_count": 19,
     "metadata": {},
     "output_type": "execute_result"
    }
   ],
   "source": [
    "18//2"
   ]
  },
  {
   "cell_type": "markdown",
   "metadata": {},
   "source": [
    "# Q.11. X = [\"Feb\", Apr, Mar, May, Jun, Jul, Aug, Jan]. What will be output of following?\n",
    "X[0:3] \n",
    "X[2:8]\n",
    "X[4:9]\n",
    "X[1:7:2]\n",
    "X[-1:-7]\n",
    "X[-7:7]\n",
    "X[-1:-8:-2]\n",
    "X[:4]"
   ]
  },
  {
   "cell_type": "code",
   "execution_count": 26,
   "metadata": {},
   "outputs": [
    {
     "name": "stdout",
     "output_type": "stream",
     "text": [
      "['Feb', 'Apr', 'Mar', 'May', 'Jun', 'Jul', 'Aug', 'Jan']\n"
     ]
    }
   ],
   "source": [
    "#Solution\n",
    "x = [\"Feb\",\"Apr\",\"Mar\",\"May\",\"Jun\",\"Jul\",\"Aug\",\"Jan\"]\n",
    "print(x)"
   ]
  },
  {
   "cell_type": "code",
   "execution_count": 30,
   "metadata": {},
   "outputs": [
    {
     "name": "stdout",
     "output_type": "stream",
     "text": [
      "['Feb', 'Apr', 'Mar']\n",
      "['Mar', 'May', 'Jun', 'Jul', 'Aug', 'Jan']\n",
      "['Jun', 'Jul', 'Aug', 'Jan']\n",
      "['Apr', 'May', 'Jul']\n",
      "[]\n",
      "['Apr', 'Mar', 'May', 'Jun', 'Jul', 'Aug']\n",
      "['Jan', 'Jul', 'May', 'Apr']\n",
      "['Feb', 'Apr', 'Mar', 'May']\n"
     ]
    }
   ],
   "source": [
    "print(x[0:3])\n",
    "print(x[2:8])\n",
    "print(x[4:9])\n",
    "print(x[1:7:2])\n",
    "print(x[-1:-7])\n",
    "print(x[-7:7])\n",
    "print(x[-1:-8:-2])\n",
    "print(x[:4])"
   ]
  },
  {
   "cell_type": "markdown",
   "metadata": {},
   "source": [
    "# Q.12 Remove the correct number from the list X\n",
    "X = [ 9,2,8,4,5]\n",
    "X__?__print \n",
    "(X)Output: [2,8,4,5]\n",
    "    1) .delete(9)\n",
    "    2) .rm(9)\n",
    "    3) .remove(9)"
   ]
  },
  {
   "cell_type": "code",
   "execution_count": 36,
   "metadata": {},
   "outputs": [
    {
     "name": "stdout",
     "output_type": "stream",
     "text": [
      "[2, 8, 4, 5]\n"
     ]
    }
   ],
   "source": [
    "#Solution#12\n",
    "x = [9,2,8,4,5]\n",
    "x.remove(9)\n",
    "print(x)"
   ]
  },
  {
   "cell_type": "markdown",
   "metadata": {},
   "source": [
    "# Q.13 \n",
    "p = 3\n",
    "q = 'hello! '\n",
    "print( q __?__ p) \n",
    "hello! hello! hello!\n",
    "1) *\n",
    "2) **\n",
    "3) +"
   ]
  },
  {
   "cell_type": "code",
   "execution_count": 41,
   "metadata": {},
   "outputs": [
    {
     "name": "stdout",
     "output_type": "stream",
     "text": [
      "hello! hello! hello! \n"
     ]
    }
   ],
   "source": [
    "#Solution 13\n",
    "p = 3\n",
    "q = 'hello! '\n",
    "print(q*p)"
   ]
  },
  {
   "cell_type": "markdown",
   "metadata": {},
   "source": [
    "# Q.14 y = \"this is a random sentence\"\n",
    "print (y__?__)\n",
    "Output: THIS IS A RANDOM SENTENCE\n",
    "1) .upper()\n",
    "2) .upcase()\n",
    "3) .capitalize()"
   ]
  },
  {
   "cell_type": "code",
   "execution_count": 42,
   "metadata": {},
   "outputs": [
    {
     "name": "stdout",
     "output_type": "stream",
     "text": [
      "THIS IS A RANDOM SENTENCE\n"
     ]
    }
   ],
   "source": [
    "#Solution 14\n",
    "y = \"this is a random sentence\"\n",
    "print (y.upper())"
   ]
  },
  {
   "cell_type": "code",
   "execution_count": 43,
   "metadata": {},
   "outputs": [
    {
     "ename": "AttributeError",
     "evalue": "'str' object has no attribute 'upcase'",
     "output_type": "error",
     "traceback": [
      "\u001b[1;31m---------------------------------------------------------------------------\u001b[0m",
      "\u001b[1;31mAttributeError\u001b[0m                            Traceback (most recent call last)",
      "\u001b[1;32m<ipython-input-43-68e7b7910f7f>\u001b[0m in \u001b[0;36m<module>\u001b[1;34m\u001b[0m\n\u001b[0;32m      1\u001b[0m \u001b[0my\u001b[0m \u001b[1;33m=\u001b[0m \u001b[1;34m\"this is a random sentence\"\u001b[0m\u001b[1;33m\u001b[0m\u001b[1;33m\u001b[0m\u001b[0m\n\u001b[1;32m----> 2\u001b[1;33m \u001b[0mprint\u001b[0m \u001b[1;33m(\u001b[0m\u001b[0my\u001b[0m\u001b[1;33m.\u001b[0m\u001b[0mupcase\u001b[0m\u001b[1;33m(\u001b[0m\u001b[1;33m)\u001b[0m\u001b[1;33m)\u001b[0m\u001b[1;33m\u001b[0m\u001b[1;33m\u001b[0m\u001b[0m\n\u001b[0m",
      "\u001b[1;31mAttributeError\u001b[0m: 'str' object has no attribute 'upcase'"
     ]
    }
   ],
   "source": [
    "y = \"this is a random sentence\"\n",
    "print (y.upcase())"
   ]
  },
  {
   "cell_type": "code",
   "execution_count": 44,
   "metadata": {},
   "outputs": [
    {
     "name": "stdout",
     "output_type": "stream",
     "text": [
      "This is a random sentence\n"
     ]
    }
   ],
   "source": [
    "y = \"this is a random sentence\"\n",
    "print (y.capitalize())"
   ]
  },
  {
   "cell_type": "markdown",
   "metadata": {},
   "source": [
    "# Q15. \n",
    "p = True\n",
    "q = ‘True’\n",
    "r = 2r = 2.0\n",
    "print(type(p))\n",
    "print(type(q))\n",
    "print(type(r))\n",
    "print(type(s))"
   ]
  },
  {
   "cell_type": "code",
   "execution_count": 46,
   "metadata": {},
   "outputs": [
    {
     "name": "stdout",
     "output_type": "stream",
     "text": [
      "<class 'bool'>\n",
      "<class 'str'>\n",
      "<class 'int'>\n",
      "<class 'float'>\n"
     ]
    }
   ],
   "source": [
    "#Solution 15\n",
    "p = True\n",
    "q = \"True\"\n",
    "r = 2\n",
    "s = 2.0\n",
    "print(type(p))\n",
    "print(type(q))\n",
    "print(type(r))\n",
    "print(type(s))"
   ]
  },
  {
   "cell_type": "code",
   "execution_count": null,
   "metadata": {},
   "outputs": [],
   "source": [
    "# Q.16 What are the optional arguments to the function?\n",
    "#function_1(R1, q, p=None, R2= None)\n",
    "#1) q and R2        ✓\n",
    "#2) p and R2\n",
    "#3) p and R1\n",
    "#4) R1 and q"
   ]
  },
  {
   "cell_type": "code",
   "execution_count": null,
   "metadata": {},
   "outputs": [],
   "source": [
    "# Q.17 Which command invokes method X() of the object p?\n",
    "#1) X(p)        ✓\n",
    "#2) p$x()\n",
    "#3) X().p\n",
    "#4) p.x()"
   ]
  },
  {
   "cell_type": "markdown",
   "metadata": {},
   "source": [
    "# Q.18 X=4 , Y= 2\n",
    "print(X % Y)\n",
    "print(X / Y)\n",
    "print(X // Y)\n",
    "print(Y % X)"
   ]
  },
  {
   "cell_type": "code",
   "execution_count": 48,
   "metadata": {},
   "outputs": [
    {
     "name": "stdout",
     "output_type": "stream",
     "text": [
      "4\n",
      "5\n",
      "\n",
      "1\n",
      "9\n",
      "\n"
     ]
    }
   ],
   "source": [
    "test_list = [[4, 1, 1], [5, 9, 0]]\n",
    "for i in range(len(test_list)): \n",
    "    for x in test_list: \n",
    "        print(x[i]) \n",
    "    print()"
   ]
  },
  {
   "cell_type": "markdown",
   "metadata": {},
   "source": [
    "# Q19. x = [[4, 1, 1], [5, 9, 0]]\n",
    "for i in __?__:\n",
    "    ?\n",
    "    Output: 4 \n",
    "            1\n",
    "            1\n",
    "            5\n",
    "            9\n",
    "            0\n",
    "    x = [[4, 1, 1], [5, 9, 0]]\n",
    "        for i in __?__:\n",
    "            for j in  __?__:\n",
    "                ?\n",
    "                Output:4 5\n",
    "                       1 9\n",
    "                    1 0\n",
    "    x = [[4, 1, 1], [5, 9, 0]]\n",
    "        for i in __?__:\n",
    "            for j in  __?__:\n",
    "                ?\n",
    "                Output:4 1 1 5 9 0\n",
    "    x = [[4, 1, 1], [5, 9, 0]]\n",
    "        for i in __?__:\n",
    "            for j in  __?__:\n",
    "                ?\n",
    "                Output:4 1 1\n",
    "                       5 9 0\n",
    "                    \n",
    "                \n",
    "# question not undrestand "
   ]
  },
  {
   "cell_type": "markdown",
   "metadata": {},
   "source": [
    "# Q20. \n",
    "q = [10.62, 16.14, 6.45, 17.11]\n",
    "    for __?__, z in enumerate (q) :\n",
    "        print( ‘Item ‘ + str( j ) + ‘  -‘, str ( z ))\n",
    "Output:   Item 0 –10.62\n",
    "          Item 1 –16.14\n",
    "          Item 2 –6.45\n",
    "          Item 3 –17.11\n",
    "1)z\n",
    "2)i\n",
    "3)j\n",
    "4)x\n",
    "5)k\n",
    "6)y"
   ]
  },
  {
   "cell_type": "code",
   "execution_count": 1,
   "metadata": {},
   "outputs": [
    {
     "ename": "NameError",
     "evalue": "name 'name' is not defined",
     "output_type": "error",
     "traceback": [
      "\u001b[1;31m---------------------------------------------------------------------------\u001b[0m",
      "\u001b[1;31mNameError\u001b[0m                                 Traceback (most recent call last)",
      "\u001b[1;32m<ipython-input-1-dc8836dbb341>\u001b[0m in \u001b[0;36m<module>\u001b[1;34m\u001b[0m\n\u001b[0;32m      2\u001b[0m \u001b[0mtableData\u001b[0m \u001b[1;33m=\u001b[0m \u001b[1;33m[\u001b[0m\u001b[1;33m[\u001b[0m\u001b[1;36m4\u001b[0m\u001b[1;33m,\u001b[0m \u001b[1;36m1\u001b[0m\u001b[1;33m,\u001b[0m \u001b[1;36m1\u001b[0m\u001b[1;33m]\u001b[0m\u001b[1;33m,\u001b[0m \u001b[1;33m[\u001b[0m\u001b[1;36m5\u001b[0m\u001b[1;33m,\u001b[0m \u001b[1;36m9\u001b[0m\u001b[1;33m,\u001b[0m \u001b[1;36m0\u001b[0m\u001b[1;33m]\u001b[0m\u001b[1;33m]\u001b[0m\u001b[1;33m\u001b[0m\u001b[1;33m\u001b[0m\u001b[0m\n\u001b[0;32m      3\u001b[0m \u001b[1;32mfor\u001b[0m \u001b[0mi\u001b[0m \u001b[1;32min\u001b[0m \u001b[0mrange\u001b[0m\u001b[1;33m(\u001b[0m\u001b[1;36m2\u001b[0m\u001b[1;33m)\u001b[0m\u001b[1;33m:\u001b[0m\u001b[1;33m\u001b[0m\u001b[1;33m\u001b[0m\u001b[0m\n\u001b[1;32m----> 4\u001b[1;33m     \u001b[0me\u001b[0m\u001b[1;33m=\u001b[0m\u001b[0mname\u001b[0m\u001b[1;33m[\u001b[0m\u001b[0mi\u001b[0m\u001b[1;33m]\u001b[0m\u001b[1;33m\u001b[0m\u001b[1;33m\u001b[0m\u001b[0m\n\u001b[0m\u001b[0;32m      5\u001b[0m     \u001b[0mf\u001b[0m\u001b[1;33m=\u001b[0m\u001b[0mspeed\u001b[0m\u001b[1;33m[\u001b[0m\u001b[0mi\u001b[0m\u001b[1;33m]\u001b[0m\u001b[1;33m\u001b[0m\u001b[1;33m\u001b[0m\u001b[0m\n\u001b[0;32m      6\u001b[0m     \u001b[0mresult\u001b[0m\u001b[1;33m=\u001b[0m\u001b[0me\u001b[0m \u001b[1;33m+\u001b[0m \u001b[1;34m\" was driving at \"\u001b[0m \u001b[1;33m+\u001b[0m \u001b[0mf\u001b[0m \u001b[1;33m+\u001b[0m \u001b[1;34m\"mph.\"\u001b[0m\u001b[1;33m\u001b[0m\u001b[1;33m\u001b[0m\u001b[0m\n",
      "\u001b[1;31mNameError\u001b[0m: name 'name' is not defined"
     ]
    }
   ],
   "source": [
    "# Solution 20\n",
    "tableData = [[4, 1, 1], [5, 9, 0]]\n",
    "for i in range(2):\n",
    "    e=name[i]\n",
    "    f=speed[i]\n",
    "    result=e + \" was driving at \" + f + \"mph.\"\n",
    "    print(resul)"
   ]
  },
  {
   "cell_type": "code",
   "execution_count": null,
   "metadata": {},
   "outputs": [],
   "source": []
  }
 ],
 "metadata": {
  "kernelspec": {
   "display_name": "Python 3",
   "language": "python",
   "name": "python3"
  },
  "language_info": {
   "codemirror_mode": {
    "name": "ipython",
    "version": 3
   },
   "file_extension": ".py",
   "mimetype": "text/x-python",
   "name": "python",
   "nbconvert_exporter": "python",
   "pygments_lexer": "ipython3",
   "version": "3.7.4"
  }
 },
 "nbformat": 4,
 "nbformat_minor": 2
}
