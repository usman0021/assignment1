{
 "cells": [
  {
   "cell_type": "code",
   "execution_count": 1,
   "metadata": {},
   "outputs": [
    {
     "name": "stdout",
     "output_type": "stream",
     "text": [
      "Hellow, World!\n"
     ]
    }
   ],
   "source": [
    "print (\"Hellow, World!\")"
   ]
  },
  {
   "cell_type": "code",
   "execution_count": 9,
   "metadata": {},
   "outputs": [
    {
     "name": "stdout",
     "output_type": "stream",
     "text": [
      "2100\n"
     ]
    }
   ],
   "source": [
    "print (2100)"
   ]
  },
  {
   "cell_type": "code",
   "execution_count": 10,
   "metadata": {},
   "outputs": [
    {
     "name": "stdout",
     "output_type": "stream",
     "text": [
      "21 21.09\n"
     ]
    }
   ],
   "source": [
    "print (21, 21.09)"
   ]
  },
  {
   "cell_type": "code",
   "execution_count": 6,
   "metadata": {},
   "outputs": [
    {
     "name": "stdout",
     "output_type": "stream",
     "text": [
      "Usmankhan\n"
     ]
    }
   ],
   "source": [
    "name = \"Usmankhan\"\n",
    "print (name)"
   ]
  },
  {
   "cell_type": "code",
   "execution_count": 8,
   "metadata": {},
   "outputs": [
    {
     "ename": "SyntaxError",
     "evalue": "invalid syntax (<ipython-input-8-40a8006574b7>, line 1)",
     "output_type": "error",
     "traceback": [
      "\u001b[1;36m  File \u001b[1;32m\"<ipython-input-8-40a8006574b7>\"\u001b[1;36m, line \u001b[1;32m1\u001b[0m\n\u001b[1;33m    Roll No = PIAIC69036\u001b[0m\n\u001b[1;37m          ^\u001b[0m\n\u001b[1;31mSyntaxError\u001b[0m\u001b[1;31m:\u001b[0m invalid syntax\n"
     ]
    }
   ],
   "source": [
    "Roll No = PIAIC69036\n",
    "Full Name = Muhammad-Usman-Khan\n",
    "Course = Artificial Intelligence\n",
    "District Learing = No\n",
    "City = Islamabad\n",
    "print (Roll No)\n",
    "print (Full Name)"
   ]
  },
  {
   "cell_type": "code",
   "execution_count": 11,
   "metadata": {},
   "outputs": [
    {
     "name": "stdout",
     "output_type": "stream",
     "text": [
      "islambad rawalpindi\n",
      "islambad rawalpindi\n",
      "islambad rawalpindi\n",
      "islambad rawalpindi\n"
     ]
    }
   ],
   "source": [
    "print(\"islambad rawalpindi\")\n",
    "print(\"islambad rawalpindi\")\n",
    "print(\"islambad rawalpindi\")\n",
    "print(\"islambad rawalpindi\")"
   ]
  },
  {
   "cell_type": "code",
   "execution_count": 12,
   "metadata": {},
   "outputs": [
    {
     "name": "stdout",
     "output_type": "stream",
     "text": [
      "islambad rawalpindi\t\tislambad rawalpindi\t\tislambad rawalpindi\n"
     ]
    }
   ],
   "source": [
    "print(\"islambad rawalpindi\", end=\"\\t\\t\")\n",
    "print(\"islambad rawalpindi\", end=\"\\t\\t\")\n",
    "print(\"islambad rawalpindi\")"
   ]
  },
  {
   "cell_type": "code",
   "execution_count": 15,
   "metadata": {},
   "outputs": [
    {
     "name": "stdout",
     "output_type": "stream",
     "text": [
      "islambad rawalpindi\n",
      "\n",
      "Karachi Lahore\n",
      "\n",
      "Multan rawalpindi\n"
     ]
    }
   ],
   "source": [
    "print(\"islambad rawalpindi\", end=\"\\n\\n\")\n",
    "print(\"Karachi Lahore\", end=\"\\n\\n\")\n",
    "print(\"Multan rawalpindi\")"
   ]
  }
 ],
 "metadata": {
  "kernelspec": {
   "display_name": "Python 3",
   "language": "python",
   "name": "python3"
  },
  "language_info": {
   "codemirror_mode": {
    "name": "ipython",
    "version": 3
   },
   "file_extension": ".py",
   "mimetype": "text/x-python",
   "name": "python",
   "nbconvert_exporter": "python",
   "pygments_lexer": "ipython3",
   "version": "3.7.4"
  }
 },
 "nbformat": 4,
 "nbformat_minor": 2
}
